{
 "cells": [
  {
   "cell_type": "code",
   "execution_count": 1,
   "id": "bd4fd4fb",
   "metadata": {},
   "outputs": [
    {
     "data": {
      "text/plain": [
       "2"
      ]
     },
     "execution_count": 1,
     "metadata": {},
     "output_type": "execute_result"
    }
   ],
   "source": [
    "### For execute these shell press, Shift + Enter\n",
    "1+1"
   ]
  },
  {
   "cell_type": "code",
   "execution_count": 1,
   "id": "31d66e36",
   "metadata": {},
   "outputs": [
    {
     "name": "stdout",
     "output_type": "stream",
     "text": [
      "Hello Ankitaaaaaa\n"
     ]
    }
   ],
   "source": [
    "print(\"Hello Ankitaaaaaa\")"
   ]
  },
  {
   "cell_type": "code",
   "execution_count": 2,
   "id": "0ec7c75a",
   "metadata": {},
   "outputs": [
    {
     "name": "stdout",
     "output_type": "stream",
     "text": [
      "Hello Anaaaa\n"
     ]
    }
   ],
   "source": [
    "print(\"Hello Anaaaa\")"
   ]
  },
  {
   "cell_type": "code",
   "execution_count": null,
   "id": "ee269535",
   "metadata": {},
   "outputs": [],
   "source": []
  }
 ],
 "metadata": {
  "kernelspec": {
   "display_name": "Python 3",
   "language": "python",
   "name": "python3"
  },
  "language_info": {
   "codemirror_mode": {
    "name": "ipython",
    "version": 3
   },
   "file_extension": ".py",
   "mimetype": "text/x-python",
   "name": "python",
   "nbconvert_exporter": "python",
   "pygments_lexer": "ipython3",
   "version": "3.12.0"
  }
 },
 "nbformat": 4,
 "nbformat_minor": 5
}
